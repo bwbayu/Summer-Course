{
 "cells": [
  {
   "cell_type": "markdown",
   "metadata": {},
   "source": [
    "Case Study 1"
   ]
  },
  {
   "cell_type": "code",
   "execution_count": 1,
   "metadata": {},
   "outputs": [
    {
     "name": "stdout",
     "output_type": "stream",
     "text": [
      "The miles/gallons for this tank was 22.421875\n",
      "The miles/gallons for this tank was 19.417476\n",
      "The miles/gallons for this tank was 24.000000\n",
      "The overall average miles/gallon was 21.601423\n"
     ]
    }
   ],
   "source": [
    "gallons_used = float(input(\"Enter the gallons used (-1 to end): \"))\n",
    "gallons_sum = 0\n",
    "miles_sum = 0\n",
    "\n",
    "while gallons_used != -1:\n",
    "    miles_driven = float(input(\"Enter the miles driven: \"))\n",
    "    miles_per_gallon = miles_driven/gallons_used\n",
    "    print(f\"The miles/gallons for this tank was {miles_per_gallon:.6f}\")\n",
    "    gallons_sum += gallons_used\n",
    "    miles_sum += miles_driven\n",
    "    gallons_used = float(input(\"Enter the gallons used (-1 to end): \"))\n",
    "    \n",
    "miles_per_gallon_avg = miles_sum/gallons_sum\n",
    "print(f\"The overall average miles/gallon was {miles_per_gallon_avg:.6f}\")"
   ]
  },
  {
   "cell_type": "markdown",
   "metadata": {},
   "source": [
    "Case Study 2"
   ]
  },
  {
   "cell_type": "code",
   "execution_count": 2,
   "metadata": {},
   "outputs": [
    {
     "name": "stdout",
     "output_type": "stream",
     "text": [
      "first dice: 4\n",
      "second dice: 5\n",
      "sum : 9\n",
      "first dice: 2\n",
      "second dice: 4\n",
      "sum : 6\n",
      "first dice: 1\n",
      "second dice: 5\n",
      "sum : 6\n",
      "first dice: 2\n",
      "second dice: 1\n",
      "sum : 3\n",
      "first dice: 5\n",
      "second dice: 1\n",
      "sum : 6\n",
      "first dice: 5\n",
      "second dice: 6\n",
      "sum : 11\n",
      "first dice: 4\n",
      "second dice: 3\n",
      "sum : 7\n",
      "You Lose :(\n"
     ]
    }
   ],
   "source": [
    "import random\n",
    "# first_dice = int(input())\n",
    "# second_dice = int(input())\n",
    "first_dice = random.randint(1,6)\n",
    "second_dice = random.randint(1,6)\n",
    "dice_sum = first_dice + second_dice\n",
    "\n",
    "print(f\"first dice: {first_dice}\")\n",
    "print(f\"second dice: {second_dice}\")\n",
    "print(f\"sum : {dice_sum}\")\n",
    "\n",
    "if dice_sum in [7,11]:\n",
    "    print(\"You Win!\")\n",
    "\n",
    "elif dice_sum in [2,3,12]:\n",
    "    print(\"You Lose :(\")\n",
    "\n",
    "elif dice_sum in range(4,11):\n",
    "\n",
    "    point = dice_sum\n",
    "    first_dice = random.randint(1,6)\n",
    "    second_dice = random.randint(1,6)\n",
    "    dice_sum = first_dice + second_dice\n",
    "\n",
    "    while dice_sum != point and dice_sum != 7:\n",
    "        print(f\"first dice: {first_dice}\")\n",
    "        print(f\"second dice: {second_dice}\")\n",
    "        print(f\"sum : {dice_sum}\")\n",
    "        first_dice = random.randint(1,6)\n",
    "        second_dice = random.randint(1,6)\n",
    "        dice_sum = first_dice + second_dice\n",
    "\n",
    "    print(f\"first dice: {first_dice}\")\n",
    "    print(f\"second dice: {second_dice}\")\n",
    "    print(f\"sum : {dice_sum}\")\n",
    "    if dice_sum == point:\n",
    "        print(\"You Win!\")\n",
    "    elif dice_sum == 7:\n",
    "        print(\"You Lose :(\")"
   ]
  },
  {
   "cell_type": "markdown",
   "metadata": {},
   "source": [
    "Case Study 3"
   ]
  },
  {
   "cell_type": "code",
   "execution_count": 3,
   "metadata": {},
   "outputs": [
    {
     "name": "stdout",
     "output_type": "stream",
     "text": [
      "minimum 174\n",
      "maximum 1704\n",
      "range 1530\n",
      "mean 845.7\n",
      "median 704.5\n",
      "variance 253620.74736842106\n",
      "standard deviation 490.8560990758901\n"
     ]
    }
   ],
   "source": [
    "import statistics\n",
    "infected_patients = [174, 335, 278, 214, 422, 513, 737, 672, 489, 412, 1301, 1105, 1123, 1376, 1502, 894, 665, 1704, 1656, 1342]\n",
    "\n",
    "print(f\"minimum {min(infected_patients)}\")\n",
    "print(f\"maximum {max(infected_patients)}\")\n",
    "print(f\"range {max(infected_patients) - min(infected_patients)}\")\n",
    "print(f\"mean {statistics.mean(infected_patients)}\")\n",
    "print(f\"median {statistics.median(infected_patients)}\")\n",
    "print(f\"variance {statistics.variance(infected_patients)}\")\n",
    "print(f\"standard deviation {statistics.pstdev(infected_patients)}\")"
   ]
  }
 ],
 "metadata": {
  "kernelspec": {
   "display_name": "Python 3",
   "language": "python",
   "name": "python3"
  },
  "language_info": {
   "codemirror_mode": {
    "name": "ipython",
    "version": 3
   },
   "file_extension": ".py",
   "mimetype": "text/x-python",
   "name": "python",
   "nbconvert_exporter": "python",
   "pygments_lexer": "ipython3",
   "version": "3.11.5"
  }
 },
 "nbformat": 4,
 "nbformat_minor": 2
}
